{
 "cells": [
  {
   "cell_type": "markdown",
   "metadata": {},
   "source": [
    "# Website A/B Testing - Lab\n",
    "\n",
    "## Introduction\n",
    "\n",
    "In this lab, you'll get another chance to practice your skills at conducting a full A/B test analysis. It will also be a chance to practice your data exploration and processing skills! The scenario you'll be investigating is data collected from the homepage of a music app page for audacity.\n",
    "\n",
    "## Objectives\n",
    "\n",
    "You will be able to:\n",
    "* Analyze the data from a website A/B test to draw relevant conclusions\n",
    "* Explore and analyze web action data"
   ]
  },
  {
   "cell_type": "markdown",
   "metadata": {},
   "source": [
    "## Exploratory Analysis\n",
    "\n",
    "Start by loading in the dataset stored in the file 'homepage_actions.csv'. Then conduct an exploratory analysis to get familiar with the data."
   ]
  },
  {
   "cell_type": "markdown",
   "metadata": {},
   "source": [
    "> Hints:\n",
    "    * Start investigating the id column:\n",
    "        * How many viewers also clicked?\n",
    "        * Are there any anomalies with the data; did anyone click who didn't view?\n",
    "        * Is there any overlap between the control and experiment groups? \n",
    "            * If so, how do you plan to account for this in your experimental design?"
   ]
  },
  {
   "cell_type": "code",
   "execution_count": 1,
   "metadata": {},
   "outputs": [
    {
     "name": "stdout",
     "output_type": "stream",
     "text": [
      "                    timestamp      id       group action\n",
      "0  2016-09-24 17:42:27.839496  804196  experiment   view\n",
      "1  2016-09-24 19:19:03.542569  434745  experiment   view\n",
      "2  2016-09-24 19:36:00.944135  507599  experiment   view\n",
      "3  2016-09-24 19:59:02.646620  671993     control   view\n",
      "4  2016-09-24 20:26:14.466886  536734  experiment   view\n",
      "<class 'pandas.core.frame.DataFrame'>\n",
      "RangeIndex: 8188 entries, 0 to 8187\n",
      "Data columns (total 4 columns):\n",
      " #   Column     Non-Null Count  Dtype \n",
      "---  ------     --------------  ----- \n",
      " 0   timestamp  8188 non-null   object\n",
      " 1   id         8188 non-null   int64 \n",
      " 2   group      8188 non-null   object\n",
      " 3   action     8188 non-null   object\n",
      "dtypes: int64(1), object(3)\n",
      "memory usage: 256.0+ KB\n",
      "None\n",
      "timestamp    0\n",
      "id           0\n",
      "group        0\n",
      "action       0\n",
      "dtype: int64\n",
      "Number of viewers who clicked: 1860\n",
      "Number of clicks without viewing: 1860\n",
      "Number of users in both groups: 0\n"
     ]
    }
   ],
   "source": [
    "# Import necessary libraries\n",
    "import pandas as pd\n",
    "\n",
    "# Load the dataset\n",
    "df = pd.read_csv('homepage_actions.csv')\n",
    "\n",
    "# Display the first few rows of the dataframe\n",
    "print(df.head())\n",
    "\n",
    "# Get basic information about the dataframe\n",
    "print(df.info())\n",
    "\n",
    "# Check for missing values\n",
    "print(df.isnull().sum())\n",
    "\n",
    "# Investigate the 'id' column\n",
    "# How many viewers also clicked?\n",
    "viewers_clicked = df[df['action'] == 'click']['id'].nunique()\n",
    "print(\"Number of viewers who clicked:\", viewers_clicked)\n",
    "\n",
    "# Are there any anomalies with the data; did anyone click who didn't view?\n",
    "clicked_without_viewing = df[df['action'] == 'click']['id'].isin(df[df['action'] == 'view']['id']).sum()\n",
    "print(\"Number of clicks without viewing:\", clicked_without_viewing)\n",
    "\n",
    "# Is there any overlap between the control and experiment groups?\n",
    "overlap_count = df.groupby('id')['group'].nunique().eq(2).sum()\n",
    "print(\"Number of users in both groups:\", overlap_count)\n"
   ]
  },
  {
   "cell_type": "markdown",
   "metadata": {},
   "source": [
    "## Conduct a Statistical Test\n",
    "\n",
    "Conduct a statistical test to determine whether the experimental homepage was more effective than that of the control group."
   ]
  },
  {
   "cell_type": "code",
   "execution_count": 2,
   "metadata": {},
   "outputs": [
    {
     "name": "stdout",
     "output_type": "stream",
     "text": [
      "Control group click-through rate: 0.2797118847539016\n",
      "Experimental group click-through rate: 0.3097463284379172\n",
      "p-value: 0.004415037788297902\n",
      "Reject the null hypothesis: The experimental homepage is more effective than the control homepage.\n"
     ]
    }
   ],
   "source": [
    "#Your code here\n",
    "from statsmodels.stats.proportion import proportions_ztest\n",
    "\n",
    "# Calculate the number of viewers and clickers for the control and experimental groups\n",
    "control_viewers = df[(df['group'] == 'control') & (df['action'] == 'view')]['id'].nunique()\n",
    "control_clickers = df[(df['group'] == 'control') & (df['action'] == 'click')]['id'].nunique()\n",
    "\n",
    "experimental_viewers = df[(df['group'] == 'experiment') & (df['action'] == 'view')]['id'].nunique()\n",
    "experimental_clickers = df[(df['group'] == 'experiment') & (df['action'] == 'click')]['id'].nunique()\n",
    "\n",
    "# Calculate the observed proportion of viewers who clicked for control and experimental groups\n",
    "control_proportion = control_clickers / control_viewers\n",
    "experimental_proportion = experimental_clickers / experimental_viewers\n",
    "\n",
    "# Perform two-sample proportion z-test\n",
    "count = [control_clickers, experimental_clickers]\n",
    "nobs = [control_viewers, experimental_viewers]\n",
    "stat, pval = proportions_ztest(count, nobs, alternative='smaller')\n",
    "\n",
    "# Print the results\n",
    "print(\"Control group click-through rate:\", control_proportion)\n",
    "print(\"Experimental group click-through rate:\", experimental_proportion)\n",
    "print(\"p-value:\", pval)\n",
    "\n",
    "# Compare p-value to significance level\n",
    "alpha = 0.05\n",
    "if pval < alpha:\n",
    "    print(\"Reject the null hypothesis: The experimental homepage is more effective than the control homepage.\")\n",
    "else:\n",
    "    print(\"Fail to reject the null hypothesis: There is insufficient evidence to conclude that the experimental homepage is more effective than the control homepage.\")\n"
   ]
  },
  {
   "cell_type": "markdown",
   "metadata": {},
   "source": [
    "## Verifying Results\n",
    "\n",
    "One sensible formulation of the data to answer the hypothesis test above would be to create a binary variable representing each individual in the experiment and control group. This binary variable would represent whether or not that individual clicked on the homepage; 1 for they did and 0 if they did not. \n",
    "\n",
    "The variance for the number of successes in a sample of a binomial variable with n observations is given by:\n",
    "\n",
    "## $n\\bullet p (1-p)$\n",
    "\n",
    "Given this, perform 3 steps to verify the results of your statistical test:\n",
    "1. Calculate the expected number of clicks for the experiment group, if it had the same click-through rate as that of the control group. \n",
    "2. Calculate the number of standard deviations that the actual number of clicks was from this estimate. \n",
    "3. Finally, calculate a p-value using the normal distribution based on this z-score."
   ]
  },
  {
   "cell_type": "markdown",
   "metadata": {},
   "source": [
    "### Step 1:\n",
    "Calculate the expected number of clicks for the experiment group, if it had the same click-through rate as that of the control group. "
   ]
  },
  {
   "cell_type": "code",
   "execution_count": 4,
   "metadata": {},
   "outputs": [
    {
     "name": "stdout",
     "output_type": "stream",
     "text": [
      "Expected number of clicks for the experiment group (if same click-through rate as control): 838.0168067226891\n"
     ]
    }
   ],
   "source": [
    "#Your code here\n",
    "import numpy as np\n",
    "from scipy.stats import norm\n",
    "\n",
    "# Step 1: Calculate the expected number of clicks for the experiment group\n",
    "expected_clicks_experimental = experimental_viewers * control_proportion\n",
    "\n",
    "\n",
    "\n",
    "# Print the results\n",
    "print(\"Expected number of clicks for the experiment group (if same click-through rate as control):\", expected_clicks_experimental)\n",
    "\n"
   ]
  },
  {
   "cell_type": "markdown",
   "metadata": {},
   "source": [
    "### Step 2:\n",
    "Calculate the number of standard deviations that the actual number of clicks was from this estimate."
   ]
  },
  {
   "cell_type": "code",
   "execution_count": 5,
   "metadata": {},
   "outputs": [
    {
     "name": "stdout",
     "output_type": "stream",
     "text": [
      "Number of standard deviations from the estimate: 3.6625360854823588\n"
     ]
    }
   ],
   "source": [
    "#Your code here\n",
    "\n",
    "variance = experimental_viewers * control_proportion * (1 - control_proportion)\n",
    "std_dev = np.sqrt(variance)\n",
    "z_score = (experimental_clickers - expected_clicks_experimental) / std_dev\n",
    "\n",
    "print(\"Number of standard deviations from the estimate:\", z_score)\n"
   ]
  },
  {
   "cell_type": "markdown",
   "metadata": {},
   "source": [
    "### Step 3: \n",
    "Finally, calculate a p-value using the normal distribution based on this z-score."
   ]
  },
  {
   "cell_type": "code",
   "execution_count": 7,
   "metadata": {},
   "outputs": [
    {
     "name": "stdout",
     "output_type": "stream",
     "text": [
      "P-value based on the normal distribution: 0.9998751347199305\n"
     ]
    }
   ],
   "source": [
    "#Your code here\n",
    "p_value = norm.cdf(z_score)\n",
    "print(\"P-value based on the normal distribution:\", p_value)"
   ]
  },
  {
   "cell_type": "markdown",
   "metadata": {},
   "source": [
    "### Analysis:\n",
    "\n",
    "Does this result roughly match that of the previous statistical test?\n",
    "\n",
    "> Comment: **Yes, the results indicate that the experimental homepage is more effective than the control homepage. The p-value of approximately 0.004 is less than the commonly used significance level of 0.05, suggesting that the difference in click-through rates between the two groups is statistically significant.**"
   ]
  },
  {
   "cell_type": "markdown",
   "metadata": {},
   "source": [
    "## Summary\n",
    "\n",
    "In this lab, you continued to get more practice designing and conducting AB tests. This required additional work preprocessing and formulating the initial problem in a suitable manner. Additionally, you also saw how to verify results, strengthening your knowledge of binomial variables, and reviewing initial statistical concepts of the central limit theorem, standard deviation, z-scores, and their accompanying p-values."
   ]
  }
 ],
 "metadata": {
  "kernelspec": {
   "display_name": "Python 3 (ipykernel)",
   "language": "python",
   "name": "python3"
  },
  "language_info": {
   "codemirror_mode": {
    "name": "ipython",
    "version": 3
   },
   "file_extension": ".py",
   "mimetype": "text/x-python",
   "name": "python",
   "nbconvert_exporter": "python",
   "pygments_lexer": "ipython3",
   "version": "3.11.5"
  }
 },
 "nbformat": 4,
 "nbformat_minor": 2
}
